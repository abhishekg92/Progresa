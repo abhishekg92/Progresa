{
 "cells": [
  {
   "cell_type": "markdown",
   "metadata": {
    "ein.tags": [
     "worksheet-0"
    ],
    "slideshow": {
     "slide_type": "-"
    }
   },
   "source": [
    "# Progresa program analysis\n",
    "\n"
   ]
  },
  {
   "cell_type": "markdown",
   "metadata": {
    "ein.tags": [
     "worksheet-0"
    ],
    "slideshow": {
     "slide_type": "-"
    }
   },
   "source": [
    "## Introduction\n",
    "\n",
    "We will be using data from the [Progresa program](http://en.wikipedia.org/wiki/Oportunidades), a government social assistance program in Mexico. This program, as well as the details of its impact, are described in the paper \"[School subsidies for the poor: evaluating the Mexican Progresa poverty program](http://www.sciencedirect.com/science/article/pii/S0304387803001858)\", by Paul Shultz. \n",
    "\n",
    "The timeline of the program was:\n",
    "\n",
    " * Baseline survey conducted in 1997\n",
    " * Intervention begins in 1998, \"Wave 1\" of data collected in 1998\n",
    " * \"Wave 2 of data\" collected in 1999\n",
    " * Evaluation ends in 2000, at which point the control villages were treated. \n",
    " \n",
    "The following variables are collected:\n",
    "\n",
    "| Variable name | Description|\n",
    "|---------|---------|\n",
    "|year\t  |year in which data is collected\n",
    "|sex\t  |male = 1|\n",
    "|indig\t  |indigenous = 1|\n",
    "|dist_sec |nearest distance to a secondary school|\n",
    "|sc\t      |enrolled in school in year of survey|\n",
    "|grc      |grade enrolled|\n",
    "|fam_n    |family size|\n",
    "|min_dist |\tmin distance to an urban center|\n",
    "|dist_cap |\tmin distance to the capital|\n",
    "|poor     |\tpoor = 1|\n",
    "|progresa |treatment =1|\n",
    "|hohedu\t  |years of schooling of head of household|\n",
    "|hohwag\t  |monthly wages of head of household|\n",
    "|welfare_index|\twelfare index used to classify poor|\n",
    "|hohsex\t  |gender of head of household (male=1)|\n",
    "|hohage   |age of head of household|\n",
    "|age      |years old|\n",
    "|folnum\t  |individual id|\n",
    "|village  |\tvillage id|\n",
    "|sc97\t  |schooling in 1997|"
   ]
  },
  {
   "cell_type": "code",
   "execution_count": 120,
   "metadata": {
    "collapsed": false
   },
   "outputs": [],
   "source": [
    "# importing the required packages\n",
    "from __future__ import print_function\n",
    "import pandas as pd\n",
    "import numpy as np\n",
    "import scipy.stats\n",
    "from sklearn import datasets, linear_model\n",
    "from matplotlib import pyplot as plt\n",
    "import statsmodels.formula.api as smf\n",
    "\n",
    "# for plotting inline \n",
    "%matplotlib inline\n",
    "import matplotlib as mp\n",
    "\n",
    "# using ggplot styles\n",
    "mp.style.use('ggplot')"
   ]
  },
  {
   "cell_type": "markdown",
   "metadata": {
    "ein.tags": [
     "worksheet-0"
    ],
    "slideshow": {
     "slide_type": "-"
    }
   },
   "source": [
    "---\n",
    "\n",
    "##Part 1: Descriptive analysis\n",
    "\n",
    "### 1.1\tSummary Statistics\n",
    "\n",
    "Presenting summary statistics (mean and standard deviation) for all of the demographic variables in the dataset (i.e., everything except year, folnum, village). Presenting these in a single table alphabetized by variable name. "
   ]
  },
  {
   "cell_type": "code",
   "execution_count": 121,
   "metadata": {
    "autoscroll": "json-false",
    "collapsed": false,
    "ein.tags": [
     "worksheet-0"
    ],
    "slideshow": {
     "slide_type": "-"
    }
   },
   "outputs": [],
   "source": [
    "#Reading the data\n",
    "progresa=pd.read_csv(\"progresa_sample.csv\")"
   ]
  },
  {
   "cell_type": "code",
   "execution_count": 122,
   "metadata": {
    "collapsed": true
   },
   "outputs": [],
   "source": [
    "#Converting to a dataframe\n",
    "progresa_df=pd.DataFrame(progresa)"
   ]
  },
  {
   "cell_type": "code",
   "execution_count": 123,
   "metadata": {
    "collapsed": false
   },
   "outputs": [
    {
     "data": {
      "text/html": [
       "<div>\n",
       "<table border=\"1\" class=\"dataframe\">\n",
       "  <thead>\n",
       "    <tr style=\"text-align: right;\">\n",
       "      <th></th>\n",
       "      <th>year</th>\n",
       "      <th>sex</th>\n",
       "      <th>indig</th>\n",
       "      <th>dist_sec</th>\n",
       "      <th>sc</th>\n",
       "      <th>grc</th>\n",
       "      <th>fam_n</th>\n",
       "      <th>min_dist</th>\n",
       "      <th>dist_cap</th>\n",
       "      <th>poor</th>\n",
       "      <th>...</th>\n",
       "      <th>hohedu</th>\n",
       "      <th>hohwag</th>\n",
       "      <th>welfare_index</th>\n",
       "      <th>hohsex</th>\n",
       "      <th>hohage</th>\n",
       "      <th>age</th>\n",
       "      <th>village</th>\n",
       "      <th>folnum</th>\n",
       "      <th>grc97</th>\n",
       "      <th>sc97</th>\n",
       "    </tr>\n",
       "  </thead>\n",
       "  <tbody>\n",
       "    <tr>\n",
       "      <th>0</th>\n",
       "      <td>97</td>\n",
       "      <td>0.0</td>\n",
       "      <td>0.0</td>\n",
       "      <td>4.473</td>\n",
       "      <td>1.0</td>\n",
       "      <td>7.0</td>\n",
       "      <td>7</td>\n",
       "      <td>21.168384</td>\n",
       "      <td>21.168384</td>\n",
       "      <td>pobre</td>\n",
       "      <td>...</td>\n",
       "      <td>6</td>\n",
       "      <td>0.0</td>\n",
       "      <td>583.0</td>\n",
       "      <td>1.0</td>\n",
       "      <td>35.0</td>\n",
       "      <td>13</td>\n",
       "      <td>163</td>\n",
       "      <td>1</td>\n",
       "      <td>7</td>\n",
       "      <td>1.0</td>\n",
       "    </tr>\n",
       "    <tr>\n",
       "      <th>1</th>\n",
       "      <td>98</td>\n",
       "      <td>0.0</td>\n",
       "      <td>0.0</td>\n",
       "      <td>4.473</td>\n",
       "      <td>1.0</td>\n",
       "      <td>8.0</td>\n",
       "      <td>7</td>\n",
       "      <td>21.168384</td>\n",
       "      <td>21.168384</td>\n",
       "      <td>pobre</td>\n",
       "      <td>...</td>\n",
       "      <td>6</td>\n",
       "      <td>0.0</td>\n",
       "      <td>583.0</td>\n",
       "      <td>1.0</td>\n",
       "      <td>35.0</td>\n",
       "      <td>14</td>\n",
       "      <td>163</td>\n",
       "      <td>1</td>\n",
       "      <td>7</td>\n",
       "      <td>1.0</td>\n",
       "    </tr>\n",
       "    <tr>\n",
       "      <th>2</th>\n",
       "      <td>97</td>\n",
       "      <td>1.0</td>\n",
       "      <td>0.0</td>\n",
       "      <td>4.473</td>\n",
       "      <td>1.0</td>\n",
       "      <td>6.0</td>\n",
       "      <td>7</td>\n",
       "      <td>21.168384</td>\n",
       "      <td>21.168384</td>\n",
       "      <td>pobre</td>\n",
       "      <td>...</td>\n",
       "      <td>6</td>\n",
       "      <td>0.0</td>\n",
       "      <td>583.0</td>\n",
       "      <td>1.0</td>\n",
       "      <td>35.0</td>\n",
       "      <td>12</td>\n",
       "      <td>163</td>\n",
       "      <td>2</td>\n",
       "      <td>6</td>\n",
       "      <td>1.0</td>\n",
       "    </tr>\n",
       "    <tr>\n",
       "      <th>3</th>\n",
       "      <td>98</td>\n",
       "      <td>1.0</td>\n",
       "      <td>0.0</td>\n",
       "      <td>4.473</td>\n",
       "      <td>1.0</td>\n",
       "      <td>7.0</td>\n",
       "      <td>7</td>\n",
       "      <td>21.168384</td>\n",
       "      <td>21.168384</td>\n",
       "      <td>pobre</td>\n",
       "      <td>...</td>\n",
       "      <td>6</td>\n",
       "      <td>0.0</td>\n",
       "      <td>583.0</td>\n",
       "      <td>1.0</td>\n",
       "      <td>35.0</td>\n",
       "      <td>13</td>\n",
       "      <td>163</td>\n",
       "      <td>2</td>\n",
       "      <td>6</td>\n",
       "      <td>1.0</td>\n",
       "    </tr>\n",
       "    <tr>\n",
       "      <th>4</th>\n",
       "      <td>97</td>\n",
       "      <td>0.0</td>\n",
       "      <td>0.0</td>\n",
       "      <td>4.473</td>\n",
       "      <td>1.0</td>\n",
       "      <td>2.0</td>\n",
       "      <td>7</td>\n",
       "      <td>21.168384</td>\n",
       "      <td>21.168384</td>\n",
       "      <td>pobre</td>\n",
       "      <td>...</td>\n",
       "      <td>6</td>\n",
       "      <td>0.0</td>\n",
       "      <td>583.0</td>\n",
       "      <td>1.0</td>\n",
       "      <td>35.0</td>\n",
       "      <td>8</td>\n",
       "      <td>163</td>\n",
       "      <td>3</td>\n",
       "      <td>2</td>\n",
       "      <td>1.0</td>\n",
       "    </tr>\n",
       "  </tbody>\n",
       "</table>\n",
       "<p>5 rows × 21 columns</p>\n",
       "</div>"
      ],
      "text/plain": [
       "   year  sex  indig  dist_sec   sc  grc  fam_n   min_dist   dist_cap   poor  \\\n",
       "0    97  0.0    0.0     4.473  1.0  7.0      7  21.168384  21.168384  pobre   \n",
       "1    98  0.0    0.0     4.473  1.0  8.0      7  21.168384  21.168384  pobre   \n",
       "2    97  1.0    0.0     4.473  1.0  6.0      7  21.168384  21.168384  pobre   \n",
       "3    98  1.0    0.0     4.473  1.0  7.0      7  21.168384  21.168384  pobre   \n",
       "4    97  0.0    0.0     4.473  1.0  2.0      7  21.168384  21.168384  pobre   \n",
       "\n",
       "   ...  hohedu  hohwag  welfare_index  hohsex  hohage  age  village  folnum  \\\n",
       "0  ...       6     0.0          583.0     1.0    35.0   13      163       1   \n",
       "1  ...       6     0.0          583.0     1.0    35.0   14      163       1   \n",
       "2  ...       6     0.0          583.0     1.0    35.0   12      163       2   \n",
       "3  ...       6     0.0          583.0     1.0    35.0   13      163       2   \n",
       "4  ...       6     0.0          583.0     1.0    35.0    8      163       3   \n",
       "\n",
       "   grc97  sc97  \n",
       "0      7   1.0  \n",
       "1      7   1.0  \n",
       "2      6   1.0  \n",
       "3      6   1.0  \n",
       "4      2   1.0  \n",
       "\n",
       "[5 rows x 21 columns]"
      ]
     },
     "execution_count": 123,
     "metadata": {},
     "output_type": "execute_result"
    }
   ],
   "source": [
    "#Seeing the first 5 values\n",
    "progresa_df.head()"
   ]
  },
  {
   "cell_type": "code",
   "execution_count": 124,
   "metadata": {
    "collapsed": false
   },
   "outputs": [
    {
     "data": {
      "text/html": [
       "<div>\n",
       "<table border=\"1\" class=\"dataframe\">\n",
       "  <thead>\n",
       "    <tr style=\"text-align: right;\">\n",
       "      <th></th>\n",
       "      <th>Variables</th>\n",
       "      <th>Mean</th>\n",
       "    </tr>\n",
       "  </thead>\n",
       "  <tbody>\n",
       "    <tr>\n",
       "      <th>1</th>\n",
       "      <td>sex</td>\n",
       "      <td>0.512211</td>\n",
       "    </tr>\n",
       "    <tr>\n",
       "      <th>2</th>\n",
       "      <td>indig</td>\n",
       "      <td>0.298324</td>\n",
       "    </tr>\n",
       "    <tr>\n",
       "      <th>3</th>\n",
       "      <td>dist_sec</td>\n",
       "      <td>2.418910</td>\n",
       "    </tr>\n",
       "    <tr>\n",
       "      <th>4</th>\n",
       "      <td>sc</td>\n",
       "      <td>0.819818</td>\n",
       "    </tr>\n",
       "    <tr>\n",
       "      <th>5</th>\n",
       "      <td>grc</td>\n",
       "      <td>3.963537</td>\n",
       "    </tr>\n",
       "    <tr>\n",
       "      <th>6</th>\n",
       "      <td>fam_n</td>\n",
       "      <td>7.215715</td>\n",
       "    </tr>\n",
       "    <tr>\n",
       "      <th>7</th>\n",
       "      <td>min_dist</td>\n",
       "      <td>103.447520</td>\n",
       "    </tr>\n",
       "    <tr>\n",
       "      <th>8</th>\n",
       "      <td>dist_cap</td>\n",
       "      <td>147.674452</td>\n",
       "    </tr>\n",
       "    <tr>\n",
       "      <th>9</th>\n",
       "      <td>hohedu</td>\n",
       "      <td>2.768104</td>\n",
       "    </tr>\n",
       "    <tr>\n",
       "      <th>10</th>\n",
       "      <td>hohwag</td>\n",
       "      <td>586.985312</td>\n",
       "    </tr>\n",
       "    <tr>\n",
       "      <th>11</th>\n",
       "      <td>welfare_index</td>\n",
       "      <td>690.346564</td>\n",
       "    </tr>\n",
       "    <tr>\n",
       "      <th>12</th>\n",
       "      <td>hohsex</td>\n",
       "      <td>0.925185</td>\n",
       "    </tr>\n",
       "    <tr>\n",
       "      <th>13</th>\n",
       "      <td>hohage</td>\n",
       "      <td>44.436717</td>\n",
       "    </tr>\n",
       "    <tr>\n",
       "      <th>14</th>\n",
       "      <td>age</td>\n",
       "      <td>11.366460</td>\n",
       "    </tr>\n",
       "    <tr>\n",
       "      <th>17</th>\n",
       "      <td>grc97</td>\n",
       "      <td>3.705372</td>\n",
       "    </tr>\n",
       "    <tr>\n",
       "      <th>18</th>\n",
       "      <td>sc97</td>\n",
       "      <td>0.813922</td>\n",
       "    </tr>\n",
       "  </tbody>\n",
       "</table>\n",
       "</div>"
      ],
      "text/plain": [
       "        Variables        Mean\n",
       "1             sex    0.512211\n",
       "2           indig    0.298324\n",
       "3        dist_sec    2.418910\n",
       "4              sc    0.819818\n",
       "5             grc    3.963537\n",
       "6           fam_n    7.215715\n",
       "7        min_dist  103.447520\n",
       "8        dist_cap  147.674452\n",
       "9          hohedu    2.768104\n",
       "10         hohwag  586.985312\n",
       "11  welfare_index  690.346564\n",
       "12         hohsex    0.925185\n",
       "13         hohage   44.436717\n",
       "14            age   11.366460\n",
       "17          grc97    3.705372\n",
       "18           sc97    0.813922"
      ]
     },
     "execution_count": 124,
     "metadata": {},
     "output_type": "execute_result"
    }
   ],
   "source": [
    "#Calculating the mean\n",
    "a=np.mean(progresa_df,axis=0)\n",
    "\n",
    "#Converting to dataframe\n",
    "a=pd.DataFrame(a)\n",
    "\n",
    "#Changing the variable name\n",
    "a.index.name = 'Variables'\n",
    "\n",
    "#Resetting the index\n",
    "a.reset_index(inplace=True)\n",
    "\n",
    "#Assigning column names\n",
    "a.columns=[\"Variables\",\"Mean\"]\n",
    "\n",
    "#Dropping not needed columns\n",
    "a=a.drop(a.index[[0,15,16]])\n",
    "\n",
    "#Printing the mean\n",
    "a\n"
   ]
  },
  {
   "cell_type": "code",
   "execution_count": 125,
   "metadata": {
    "collapsed": false
   },
   "outputs": [
    {
     "data": {
      "text/html": [
       "<div>\n",
       "<table border=\"1\" class=\"dataframe\">\n",
       "  <thead>\n",
       "    <tr style=\"text-align: right;\">\n",
       "      <th></th>\n",
       "      <th>Variables</th>\n",
       "      <th>Standard Deviation</th>\n",
       "    </tr>\n",
       "  </thead>\n",
       "  <tbody>\n",
       "    <tr>\n",
       "      <th>1</th>\n",
       "      <td>sex</td>\n",
       "      <td>0.499851</td>\n",
       "    </tr>\n",
       "    <tr>\n",
       "      <th>2</th>\n",
       "      <td>indig</td>\n",
       "      <td>0.457522</td>\n",
       "    </tr>\n",
       "    <tr>\n",
       "      <th>3</th>\n",
       "      <td>dist_sec</td>\n",
       "      <td>2.234094</td>\n",
       "    </tr>\n",
       "    <tr>\n",
       "      <th>4</th>\n",
       "      <td>sc</td>\n",
       "      <td>0.384339</td>\n",
       "    </tr>\n",
       "    <tr>\n",
       "      <th>5</th>\n",
       "      <td>grc</td>\n",
       "      <td>2.499046</td>\n",
       "    </tr>\n",
       "    <tr>\n",
       "      <th>6</th>\n",
       "      <td>fam_n</td>\n",
       "      <td>2.352885</td>\n",
       "    </tr>\n",
       "    <tr>\n",
       "      <th>7</th>\n",
       "      <td>min_dist</td>\n",
       "      <td>42.089168</td>\n",
       "    </tr>\n",
       "    <tr>\n",
       "      <th>8</th>\n",
       "      <td>dist_cap</td>\n",
       "      <td>76.062641</td>\n",
       "    </tr>\n",
       "    <tr>\n",
       "      <th>9</th>\n",
       "      <td>hohedu</td>\n",
       "      <td>2.656089</td>\n",
       "    </tr>\n",
       "    <tr>\n",
       "      <th>10</th>\n",
       "      <td>hohwag</td>\n",
       "      <td>788.128563</td>\n",
       "    </tr>\n",
       "    <tr>\n",
       "      <th>11</th>\n",
       "      <td>welfare_index</td>\n",
       "      <td>139.490225</td>\n",
       "    </tr>\n",
       "    <tr>\n",
       "      <th>12</th>\n",
       "      <td>hohsex</td>\n",
       "      <td>0.263093</td>\n",
       "    </tr>\n",
       "    <tr>\n",
       "      <th>13</th>\n",
       "      <td>hohage</td>\n",
       "      <td>11.620296</td>\n",
       "    </tr>\n",
       "    <tr>\n",
       "      <th>14</th>\n",
       "      <td>age</td>\n",
       "      <td>3.167723</td>\n",
       "    </tr>\n",
       "    <tr>\n",
       "      <th>17</th>\n",
       "      <td>grc97</td>\n",
       "      <td>2.572371</td>\n",
       "    </tr>\n",
       "    <tr>\n",
       "      <th>18</th>\n",
       "      <td>sc97</td>\n",
       "      <td>0.389169</td>\n",
       "    </tr>\n",
       "  </tbody>\n",
       "</table>\n",
       "</div>"
      ],
      "text/plain": [
       "        Variables  Standard Deviation\n",
       "1             sex            0.499851\n",
       "2           indig            0.457522\n",
       "3        dist_sec            2.234094\n",
       "4              sc            0.384339\n",
       "5             grc            2.499046\n",
       "6           fam_n            2.352885\n",
       "7        min_dist           42.089168\n",
       "8        dist_cap           76.062641\n",
       "9          hohedu            2.656089\n",
       "10         hohwag          788.128563\n",
       "11  welfare_index          139.490225\n",
       "12         hohsex            0.263093\n",
       "13         hohage           11.620296\n",
       "14            age            3.167723\n",
       "17          grc97            2.572371\n",
       "18           sc97            0.389169"
      ]
     },
     "execution_count": 125,
     "metadata": {},
     "output_type": "execute_result"
    }
   ],
   "source": [
    "#Calculating standard deviation\n",
    "b=np.std(progresa_df,axis=0)\n",
    "\n",
    "#Coverting to dataframe\n",
    "b=pd.DataFrame(b)\n",
    "\n",
    "#Assigning column name\n",
    "b.index.name = 'Variables'\n",
    "\n",
    "#Resetting the index\n",
    "b.reset_index(inplace=True)\n",
    "\n",
    "#Assigning column names\n",
    "b.columns=[\"Variables\",\"Standard Deviation\"]\n",
    "\n",
    "#Dropping columns not needed\n",
    "b=b.drop(b.index[[0,15,16]])\n",
    "\n",
    "#Printing the standard deviation\n",
    "b"
   ]
  },
  {
   "cell_type": "code",
   "execution_count": 126,
   "metadata": {
    "collapsed": true
   },
   "outputs": [],
   "source": [
    "#Merging the datasets\n",
    "a=a.merge(b,left_on='Variables',right_on='Variables',how='outer')"
   ]
  },
  {
   "cell_type": "code",
   "execution_count": 127,
   "metadata": {
    "collapsed": false
   },
   "outputs": [
    {
     "data": {
      "text/html": [
       "<div>\n",
       "<table border=\"1\" class=\"dataframe\">\n",
       "  <thead>\n",
       "    <tr style=\"text-align: right;\">\n",
       "      <th></th>\n",
       "      <th>Variables</th>\n",
       "      <th>Mean</th>\n",
       "      <th>Standard Deviation</th>\n",
       "    </tr>\n",
       "  </thead>\n",
       "  <tbody>\n",
       "    <tr>\n",
       "      <th>13</th>\n",
       "      <td>age</td>\n",
       "      <td>11.366460</td>\n",
       "      <td>3.167723</td>\n",
       "    </tr>\n",
       "    <tr>\n",
       "      <th>7</th>\n",
       "      <td>dist_cap</td>\n",
       "      <td>147.674452</td>\n",
       "      <td>76.062641</td>\n",
       "    </tr>\n",
       "    <tr>\n",
       "      <th>2</th>\n",
       "      <td>dist_sec</td>\n",
       "      <td>2.418910</td>\n",
       "      <td>2.234094</td>\n",
       "    </tr>\n",
       "    <tr>\n",
       "      <th>5</th>\n",
       "      <td>fam_n</td>\n",
       "      <td>7.215715</td>\n",
       "      <td>2.352885</td>\n",
       "    </tr>\n",
       "    <tr>\n",
       "      <th>4</th>\n",
       "      <td>grc</td>\n",
       "      <td>3.963537</td>\n",
       "      <td>2.499046</td>\n",
       "    </tr>\n",
       "    <tr>\n",
       "      <th>14</th>\n",
       "      <td>grc97</td>\n",
       "      <td>3.705372</td>\n",
       "      <td>2.572371</td>\n",
       "    </tr>\n",
       "    <tr>\n",
       "      <th>12</th>\n",
       "      <td>hohage</td>\n",
       "      <td>44.436717</td>\n",
       "      <td>11.620296</td>\n",
       "    </tr>\n",
       "    <tr>\n",
       "      <th>8</th>\n",
       "      <td>hohedu</td>\n",
       "      <td>2.768104</td>\n",
       "      <td>2.656089</td>\n",
       "    </tr>\n",
       "    <tr>\n",
       "      <th>11</th>\n",
       "      <td>hohsex</td>\n",
       "      <td>0.925185</td>\n",
       "      <td>0.263093</td>\n",
       "    </tr>\n",
       "    <tr>\n",
       "      <th>9</th>\n",
       "      <td>hohwag</td>\n",
       "      <td>586.985312</td>\n",
       "      <td>788.128563</td>\n",
       "    </tr>\n",
       "    <tr>\n",
       "      <th>1</th>\n",
       "      <td>indig</td>\n",
       "      <td>0.298324</td>\n",
       "      <td>0.457522</td>\n",
       "    </tr>\n",
       "    <tr>\n",
       "      <th>6</th>\n",
       "      <td>min_dist</td>\n",
       "      <td>103.447520</td>\n",
       "      <td>42.089168</td>\n",
       "    </tr>\n",
       "    <tr>\n",
       "      <th>3</th>\n",
       "      <td>sc</td>\n",
       "      <td>0.819818</td>\n",
       "      <td>0.384339</td>\n",
       "    </tr>\n",
       "    <tr>\n",
       "      <th>15</th>\n",
       "      <td>sc97</td>\n",
       "      <td>0.813922</td>\n",
       "      <td>0.389169</td>\n",
       "    </tr>\n",
       "    <tr>\n",
       "      <th>0</th>\n",
       "      <td>sex</td>\n",
       "      <td>0.512211</td>\n",
       "      <td>0.499851</td>\n",
       "    </tr>\n",
       "    <tr>\n",
       "      <th>10</th>\n",
       "      <td>welfare_index</td>\n",
       "      <td>690.346564</td>\n",
       "      <td>139.490225</td>\n",
       "    </tr>\n",
       "  </tbody>\n",
       "</table>\n",
       "</div>"
      ],
      "text/plain": [
       "        Variables        Mean  Standard Deviation\n",
       "13            age   11.366460            3.167723\n",
       "7        dist_cap  147.674452           76.062641\n",
       "2        dist_sec    2.418910            2.234094\n",
       "5           fam_n    7.215715            2.352885\n",
       "4             grc    3.963537            2.499046\n",
       "14          grc97    3.705372            2.572371\n",
       "12         hohage   44.436717           11.620296\n",
       "8          hohedu    2.768104            2.656089\n",
       "11         hohsex    0.925185            0.263093\n",
       "9          hohwag  586.985312          788.128563\n",
       "1           indig    0.298324            0.457522\n",
       "6        min_dist  103.447520           42.089168\n",
       "3              sc    0.819818            0.384339\n",
       "15           sc97    0.813922            0.389169\n",
       "0             sex    0.512211            0.499851\n",
       "10  welfare_index  690.346564          139.490225"
      ]
     },
     "execution_count": 127,
     "metadata": {},
     "output_type": "execute_result"
    }
   ],
   "source": [
    "#Sorting them by variable name\n",
    "a=a.sort_values(by='Variables')\n",
    "\n",
    "#Printing thr required data\n",
    "a"
   ]
  },
  {
   "cell_type": "markdown",
   "metadata": {
    "ein.tags": [
     "worksheet-0"
    ],
    "slideshow": {
     "slide_type": "-"
    }
   },
   "source": [
    "### 1.2 Differences at baseline?\n",
    "\n",
    "Are the baseline (1997) demographic characteristics **for the poor**  different in treatment and control villages? \n"
   ]
  },
  {
   "cell_type": "code",
   "execution_count": 128,
   "metadata": {
    "autoscroll": "json-false",
    "collapsed": false,
    "ein.tags": [
     "worksheet-0"
    ],
    "scrolled": true,
    "slideshow": {
     "slide_type": "-"
    }
   },
   "outputs": [],
   "source": [
    "# Read the Progresa Data\n",
    "progresa_data = pd.read_csv('progresa_sample.csv')\n",
    "\n",
    "# Clean the data. Convert 'basal' to 1 and '0' to 0\n",
    "progresa_data.loc[progresa_data['progresa'] == 'basal', 'progresa'] = float(1)\n",
    "progresa_data.loc[progresa_data['progresa'] == '0', 'progresa'] = float(0)\n",
    "progresa_data[['progresa']] = progresa_data['progresa'].astype(float)\n",
    "\n",
    "#Converting to dataframe\n",
    "progresa_df=pd.DataFrame(progresa_data)\n"
   ]
  },
  {
   "cell_type": "code",
   "execution_count": 129,
   "metadata": {
    "collapsed": false
   },
   "outputs": [
    {
     "data": {
      "text/html": [
       "<div>\n",
       "<table border=\"1\" class=\"dataframe\">\n",
       "  <thead>\n",
       "    <tr style=\"text-align: right;\">\n",
       "      <th></th>\n",
       "      <th>Variable name</th>\n",
       "      <th>Average Value (Treatment villages)</th>\n",
       "      <th>Average value (Control villages)</th>\n",
       "      <th>Difference (Treat - Control)</th>\n",
       "      <th>p-value</th>\n",
       "    </tr>\n",
       "  </thead>\n",
       "  <tbody>\n",
       "    <tr>\n",
       "      <th>0</th>\n",
       "      <td>age</td>\n",
       "      <td>10.7170</td>\n",
       "      <td>10.7420</td>\n",
       "      <td>-0.0250</td>\n",
       "      <td>0.479</td>\n",
       "    </tr>\n",
       "    <tr>\n",
       "      <th>1</th>\n",
       "      <td>dist_cap</td>\n",
       "      <td>150.8291</td>\n",
       "      <td>153.7697</td>\n",
       "      <td>-2.9407</td>\n",
       "      <td>0.001</td>\n",
       "    </tr>\n",
       "    <tr>\n",
       "      <th>2</th>\n",
       "      <td>dist_sec</td>\n",
       "      <td>2.4531</td>\n",
       "      <td>2.5077</td>\n",
       "      <td>-0.0545</td>\n",
       "      <td>0.036</td>\n",
       "    </tr>\n",
       "    <tr>\n",
       "      <th>3</th>\n",
       "      <td>fam_n</td>\n",
       "      <td>7.2813</td>\n",
       "      <td>7.3025</td>\n",
       "      <td>-0.0211</td>\n",
       "      <td>0.427</td>\n",
       "    </tr>\n",
       "    <tr>\n",
       "      <th>4</th>\n",
       "      <td>grc</td>\n",
       "      <td>3.5316</td>\n",
       "      <td>3.5430</td>\n",
       "      <td>-0.0115</td>\n",
       "      <td>0.689</td>\n",
       "    </tr>\n",
       "    <tr>\n",
       "      <th>5</th>\n",
       "      <td>grc97</td>\n",
       "      <td>3.5316</td>\n",
       "      <td>3.5430</td>\n",
       "      <td>-0.0115</td>\n",
       "      <td>0.689</td>\n",
       "    </tr>\n",
       "    <tr>\n",
       "      <th>6</th>\n",
       "      <td>hohage</td>\n",
       "      <td>43.6488</td>\n",
       "      <td>44.2769</td>\n",
       "      <td>-0.6281</td>\n",
       "      <td>0.000</td>\n",
       "    </tr>\n",
       "    <tr>\n",
       "      <th>7</th>\n",
       "      <td>hohedu</td>\n",
       "      <td>2.6631</td>\n",
       "      <td>2.5903</td>\n",
       "      <td>0.0728</td>\n",
       "      <td>0.011</td>\n",
       "    </tr>\n",
       "    <tr>\n",
       "      <th>8</th>\n",
       "      <td>hohsex</td>\n",
       "      <td>0.9247</td>\n",
       "      <td>0.9229</td>\n",
       "      <td>0.0017</td>\n",
       "      <td>0.571</td>\n",
       "    </tr>\n",
       "    <tr>\n",
       "      <th>9</th>\n",
       "      <td>hohwag</td>\n",
       "      <td>544.3395</td>\n",
       "      <td>573.1636</td>\n",
       "      <td>-28.8240</td>\n",
       "      <td>0.000</td>\n",
       "    </tr>\n",
       "    <tr>\n",
       "      <th>10</th>\n",
       "      <td>min_dist</td>\n",
       "      <td>107.1529</td>\n",
       "      <td>103.2379</td>\n",
       "      <td>3.9151</td>\n",
       "      <td>0.000</td>\n",
       "    </tr>\n",
       "    <tr>\n",
       "      <th>11</th>\n",
       "      <td>sc</td>\n",
       "      <td>0.8227</td>\n",
       "      <td>0.8152</td>\n",
       "      <td>0.0075</td>\n",
       "      <td>0.095</td>\n",
       "    </tr>\n",
       "    <tr>\n",
       "      <th>12</th>\n",
       "      <td>sc97</td>\n",
       "      <td>0.8227</td>\n",
       "      <td>0.8152</td>\n",
       "      <td>0.0075</td>\n",
       "      <td>0.095</td>\n",
       "    </tr>\n",
       "    <tr>\n",
       "      <th>13</th>\n",
       "      <td>sex</td>\n",
       "      <td>0.5193</td>\n",
       "      <td>0.5051</td>\n",
       "      <td>0.0143</td>\n",
       "      <td>0.012</td>\n",
       "    </tr>\n",
       "    <tr>\n",
       "      <th>14</th>\n",
       "      <td>welfare_index</td>\n",
       "      <td>655.4284</td>\n",
       "      <td>659.5791</td>\n",
       "      <td>-4.1507</td>\n",
       "      <td>0.001</td>\n",
       "    </tr>\n",
       "  </tbody>\n",
       "</table>\n",
       "</div>"
      ],
      "text/plain": [
       "    Variable name  Average Value (Treatment villages)  \\\n",
       "0             age                             10.7170   \n",
       "1        dist_cap                            150.8291   \n",
       "2        dist_sec                              2.4531   \n",
       "3           fam_n                              7.2813   \n",
       "4             grc                              3.5316   \n",
       "5           grc97                              3.5316   \n",
       "6          hohage                             43.6488   \n",
       "7          hohedu                              2.6631   \n",
       "8          hohsex                              0.9247   \n",
       "9          hohwag                            544.3395   \n",
       "10       min_dist                            107.1529   \n",
       "11             sc                              0.8227   \n",
       "12           sc97                              0.8227   \n",
       "13            sex                              0.5193   \n",
       "14  welfare_index                            655.4284   \n",
       "\n",
       "    Average value (Control villages)  Difference (Treat - Control)  p-value  \n",
       "0                            10.7420                       -0.0250    0.479  \n",
       "1                           153.7697                       -2.9407    0.001  \n",
       "2                             2.5077                       -0.0545    0.036  \n",
       "3                             7.3025                       -0.0211    0.427  \n",
       "4                             3.5430                       -0.0115    0.689  \n",
       "5                             3.5430                       -0.0115    0.689  \n",
       "6                            44.2769                       -0.6281    0.000  \n",
       "7                             2.5903                        0.0728    0.011  \n",
       "8                             0.9229                        0.0017    0.571  \n",
       "9                           573.1636                      -28.8240    0.000  \n",
       "10                          103.2379                        3.9151    0.000  \n",
       "11                            0.8152                        0.0075    0.095  \n",
       "12                            0.8152                        0.0075    0.095  \n",
       "13                            0.5051                        0.0143    0.012  \n",
       "14                          659.5791                       -4.1507    0.001  "
      ]
     },
     "execution_count": 129,
     "metadata": {},
     "output_type": "execute_result"
    }
   ],
   "source": [
    "# Creating the empty dataframe\n",
    "diff = pd.DataFrame(columns=['Variable name','Average Value (Treatment villages)', 'Average value (Control villages)',\n",
    "                            'Difference (Treat - Control)', 'p-value'])\n",
    "\n",
    "# Subsetting the data to select only 'poor' people\n",
    "poor = progresa_df[progresa_df['poor'] == 'pobre']\n",
    "\n",
    "# Subsetting the data to select observations from 1997\n",
    "old = poor[poor['year'] == 97]\n",
    "\n",
    "# Splitting the data based on treatment and control\n",
    "treat = old[old['progresa'] == 1]\n",
    "control = old[old['progresa'] == 0]\n",
    "\n",
    "#Initializing the variable\n",
    "j = 0 \n",
    "\n",
    "# Selecting columns that we need for our table\n",
    "columns = ['sex', 'grc97','dist_sec','sc','grc','fam_n','min_dist', 'dist_cap','hohedu','hohwag',\n",
    "           'welfare_index', 'hohsex','hohage','age','sc97']\n",
    "\n",
    "# Calculating mean and p-value\n",
    "for i in sorted(columns):\n",
    "    t, pv = sc.stats.ttest_ind(treat[~np.isnan(treat[i])][i], control[~np.isnan(control[i])][i])  \n",
    "    diff.loc[j] = [i, round(np.mean(treat[i]),4), round(np.mean(control[i]),4), \n",
    "            round(np.mean(treat[i]) - np.mean(control[i]),4), round(pv,3)]\n",
    "    j+=1\n",
    "\n",
    "\n",
    "# Printing the table created\n",
    "diff"
   ]
  },
  {
   "cell_type": "markdown",
   "metadata": {
    "ein.tags": [
     "worksheet-0"
    ],
    "slideshow": {
     "slide_type": "-"
    }
   },
   "source": [
    "### 1.3 Interpretation\n",
    "\n",
    "* A: Are there statistically significant differences between treatment and control villages as baseline? \n",
    "* B: Why does it matter if there are differences at baseline?\n",
    "* C: What does this imply about how to measure the impact of the treatment?"
   ]
  },
  {
   "cell_type": "markdown",
   "metadata": {
    "autoscroll": "json-false",
    "collapsed": false,
    "ein.tags": [
     "worksheet-0"
    ],
    "slideshow": {
     "slide_type": "-"
    }
   },
   "source": [
    "A: Yes, there are statistically significant differences between treatment and control villages at the baseline. This is evidenced by the p-values generated which are lesser than 0.05 which I am considering as a threshold for statistical significance with a confidence interval of 95%. The following variables are statistically significant.\n",
    "\n",
    "1. welfare_index - welfare index of the ones in control/treatment group\n",
    "2. sex - the sex of the child\n",
    "3. hohwag - This shows that the treatment/control have different households when it comes to wages\n",
    "4. hohedu - The highest education level of the head of household \n",
    "5. hohage - Age of the head of household\n",
    "6. dist_sec - Distance from secondary school\n",
    "7. dist_cap - Distance from capital\n",
    "\n",
    "B: As the differences already exist at the baseline there is a possibility for chanced bias which would change the results of the treatment which in turn might affect the outcome. Chance bias can be fixed by using methods like fixed effects but it causes us to question the randomness of treatment and control groups.\n",
    "\n",
    "C: The difference in the baseline as suggested above shows the possibility of chance bias. This might affect the outcome of the treatment to be different (higher or lower) than it should be and hence could possibly lead to the experiment failing. In case of significant differences we have to adjust for these baseline differences. This would include running a multiple linear regression with fixed effects which would help us get closer to the randomized experiment that we envisioned."
   ]
  },
  {
   "cell_type": "markdown",
   "metadata": {
    "ein.tags": [
     "worksheet-0"
    ],
    "slideshow": {
     "slide_type": "-"
    }
   },
   "source": [
    "### 1.4 Graphical exploration, part 1\n",
    "\n",
    "For each level of household head education, compute the average enrollment rate in 1997."
   ]
  },
  {
   "cell_type": "code",
   "execution_count": 130,
   "metadata": {
    "autoscroll": "json-false",
    "collapsed": false,
    "ein.tags": [
     "worksheet-0"
    ],
    "slideshow": {
     "slide_type": "-"
    }
   },
   "outputs": [
    {
     "data": {
      "image/png": "[encoded data removed]",
      "text/plain": [
       "<matplotlib.figure.Figure at 0xef74cc0>"
      ]
     },
     "metadata": {},
     "output_type": "display_data"
    }
   ],
   "source": [
    "# enrollment rates based on the years of education of the head of household.\n",
    "plot_data = pd.DataFrame(progresa_df[progresa_df['year'] == 97].groupby('hohedu').mean()['sc'])\n",
    "\n",
    "# Plotting the graph\n",
    "plt.figure(figsize=(10,5))\n",
    "a = plt.scatter(x = plot_data.index.tolist(), y = plot_data['sc'], color = 'b')\n",
    "plt.xlim(-0.5,25)\n",
    "plt.xlabel('Years of school of head of household')\n",
    "plt.ylabel('School enrolment in 1997')\n",
    "plt.title('Plot of Average School of Head of Household vs Enrolment in 1997')\n",
    "plt.show()"
   ]
  },
  {
   "cell_type": "markdown",
   "metadata": {},
   "source": [
    "In the above scatterplot, we can notice a very clear trend of the school enrollment increasing with the years of school for the head of the household. This tells us that if the head of a household is educated, they would want their children to be educated as well. We do see a dip at x=20 but that can be considered as an outlier. The scatterplot indicates a clear positive correlation between the years of school of head of household and rate of school enrollment."
   ]
  },
  {
   "cell_type": "markdown",
   "metadata": {
    "ein.tags": [
     "worksheet-0"
    ],
    "slideshow": {
     "slide_type": "-"
    }
   },
   "source": [
    "### 1.5 Graphical exploration, part 2\n",
    "\n",
    "Creating a histogram of village enrollment rates **among poor households in treated villages**, before and after treatment. Specifically, for each village, calculating the average rate of enrollment of poor households in treated villages in 1997, then computing the average rate of enrollment of poor households in treated villages in 1998. "
   ]
  },
  {
   "cell_type": "code",
   "execution_count": 131,
   "metadata": {
    "autoscroll": "json-false",
    "collapsed": false,
    "ein.tags": [
     "worksheet-0"
    ],
    "slideshow": {
     "slide_type": "-"
    }
   },
   "outputs": [
    {
     "name": "stdout",
     "output_type": "stream",
     "text": [
      "The mean enrollment rate in 1997 was: 81.38 %\n"
     ]
    },
    {
     "data": {
      "image/png": "[encoded data removed]",
      "text/plain": [
       "<matplotlib.figure.Figure at 0xd895f98>"
      ]
     },
     "metadata": {},
     "output_type": "display_data"
    },
    {
     "name": "stdout",
     "output_type": "stream",
     "text": [
      "The mean enrollment rate in 1998 was: 82.95 %\n"
     ]
    },
    {
     "data": {
      "image/png": "[encoded data removed]",
      "text/plain": [
       "<matplotlib.figure.Figure at 0xf6964e0>"
      ]
     },
     "metadata": {},
     "output_type": "display_data"
    }
   ],
   "source": [
    "# Plotting for 1997\n",
    "plt.figure(figsize=(15,5))\n",
    "\n",
    "# Creating a groupby village table to calculate mean enrollment rates\n",
    "vil_group = treat.groupby('village').mean()\n",
    "\n",
    "# Calculating mean enrollment rates\n",
    "a = np.array(vil_group['sc'])\n",
    "mean = a.mean()\n",
    "print(\"The mean enrollment rate in 1997 was:\", round(mean*100,2), '%')\n",
    "\n",
    "# Plotting histogram for 1997\n",
    "plot = plt.hist(a, bins=10,color='g')\n",
    "plt.axvline(x = mean, color = 'b')\n",
    "plt.xlabel('1997 school enrollment distribution')\n",
    "plt.ylabel('Frequency')\n",
    "plt.title('School enrolment 1997 distribution')\n",
    "plt.xlim([0.4,1])\n",
    "plt.show()\n",
    "\n",
    "\n",
    "# Plotting for year 1998\n",
    "plt.figure(figsize=(15,5))\n",
    "\n",
    "# Subsetting data for the use in histogram plot\n",
    "poor = progresa_df[progresa_df['poor'] == 'pobre']\n",
    "n = poor[poor['year'] == 98]\n",
    "treat = n[n['progresa'] == 1]\n",
    "control = n[n['progresa'] == 0]\n",
    "n = treat.groupby('village').mean()\n",
    "\n",
    "# Calculating mean enrollment rates\n",
    "b = np.array(n['sc'])#, new_group.index.tolist() )\n",
    "mean2 = b.mean()\n",
    "print(\"The mean enrollment rate in 1998 was:\", round(mean2*100,2), '%')\n",
    "\n",
    "# Plotting histogram for year 98\n",
    "plot2 = plt.hist(b, bins=10,color='g')\n",
    "plt.axvline(x = mean2, color = 'b')\n",
    "plt.xlabel('`1998 school enrollment distribution')\n",
    "plt.ylabel('Frequency')\n",
    "plt.title('School enrolment 1998 distribution')\n",
    "plt.xlim([0.4,1])\n",
    "plt.show()"
   ]
  },
  {
   "cell_type": "markdown",
   "metadata": {},
   "source": [
    "The above results show a shift in the mean enrollment rate as well as the histogram distribution. This tells us that the treatment might have had an effect in the school enrollment rates of poor households. To see if this shift is statistically significant, we will perform a t-test and get its p-value."
   ]
  },
  {
   "cell_type": "code",
   "execution_count": 132,
   "metadata": {
    "collapsed": false
   },
   "outputs": [
    {
     "name": "stdout",
     "output_type": "stream",
     "text": [
      "The results of the t-test are - \n",
      "t-statistic :  2.01571348652\n",
      "p-value :  0.0442487003657\n"
     ]
    }
   ],
   "source": [
    "#Checking for statistical significance\n",
    "t, p = scipy.stats.ttest_ind( n['sc'], vil_group['sc'], equal_var=True)\n",
    "print(\"The results of the t-test are - \")\n",
    "print(\"t-statistic : \", t)\n",
    "print(\"p-value : \", p)"
   ]
  },
  {
   "cell_type": "markdown",
   "metadata": {},
   "source": [
    "We notice that the t-test produces a p-value of 0.044 which is less that 0.05. This shows that the sift that has occured is statistically significant. This shows that the treatment had a positive impact in school enrollment for the `treatment` villages and hence can reject the null hypothesis related to it based on the p-value."
   ]
  },
  {
   "cell_type": "markdown",
   "metadata": {
    "ein.tags": [
     "worksheet-0"
    ],
    "slideshow": {
     "slide_type": "-"
    }
   },
   "source": [
    "## Part 2: Measuring Impact\n",
    "\n",
    "### 2.1 Simple differences: T-test\n",
    "\n",
    "Starting out by estimating the impact of Progresa using \"simple differences.\" \n",
    "\n",
    "* calculating the average enrollment rate among **poor** households in the Treatment villages and the average enrollment rate among **poor** households in the control villages."
   ]
  },
  {
   "cell_type": "code",
   "execution_count": 133,
   "metadata": {
    "autoscroll": "json-false",
    "collapsed": false,
    "ein.tags": [
     "worksheet-0"
    ],
    "slideshow": {
     "slide_type": "-"
    }
   },
   "outputs": [
    {
     "name": "stdout",
     "output_type": "stream",
     "text": [
      "The average difference in enrollment rates among poor households in Treatment ( 0.8465 ) villages and the average enrollment rate among poor households ( 0.8076 ) in control villages is  0.0388\n"
     ]
    },
    {
     "data": {
      "text/html": [
       "<div>\n",
       "<table border=\"1\" class=\"dataframe\">\n",
       "  <thead>\n",
       "    <tr style=\"text-align: right;\">\n",
       "      <th></th>\n",
       "      <th>Value</th>\n",
       "    </tr>\n",
       "  </thead>\n",
       "  <tbody>\n",
       "    <tr>\n",
       "      <th>T-statistic</th>\n",
       "      <td>8.359000e+00</td>\n",
       "    </tr>\n",
       "    <tr>\n",
       "      <th>p-value</th>\n",
       "      <td>6.636344e-17</td>\n",
       "    </tr>\n",
       "  </tbody>\n",
       "</table>\n",
       "</div>"
      ],
      "text/plain": [
       "                    Value\n",
       "T-statistic  8.359000e+00\n",
       "p-value      6.636344e-17"
      ]
     },
     "execution_count": 133,
     "metadata": {},
     "output_type": "execute_result"
    }
   ],
   "source": [
    "# Print average difference\n",
    "print('The average difference in enrollment rates among poor households in Treatment (', round(treat['sc'].mean(),4), \n",
    "      ') villages and the average enrollment rate among poor households (', round(control['sc'].mean(),4),\n",
    "      ') in control villages is ',\n",
    "      round(treat['sc'].mean() - control['sc'].mean(),4))\n",
    "\n",
    "# Calculate the T-stat & p-value\n",
    "t, p = scipy.stats.ttest_ind(treat[~np.isnan(treat['sc'])]['sc'],control[~np.isnan(control['sc'])]['sc'])\n",
    "\n",
    "# Print results\n",
    "pd.DataFrame(list([round(t,3), p]),index = ['T-statistic', 'p-value'], columns = ['Value'])"
   ]
  },
  {
   "cell_type": "markdown",
   "metadata": {},
   "source": [
    "The average difference in enrollment rates is shown to be 0.0388. On performing the t-test we get a p-value that is less than 0.05 which shows that the difference in enrollment rates is statistically significant. This shows that there has been an effect on the school enrollment in poor households by using the treatment. This assessment is based on the assumption that there an no external factors affecting this experiment.\n"
   ]
  },
  {
   "cell_type": "markdown",
   "metadata": {
    "ein.tags": [
     "worksheet-0"
    ],
    "slideshow": {
     "slide_type": "-"
    }
   },
   "source": [
    "### 2.2 Simple differences: Regression\n",
    "\n",
    "Estimate the effects of Progresa on enrollment using a regression model, by regressing the 1998 enrollment rates **of the poor** on treatment assignment. \n",
    "\n",
    "* Based on this model, how much did Progresa increase the likelihood of a child enrolling?\n",
    "* How does your regression estimate compare to your t-test estimate from part 2.1?\n",
    "* Based on this regression model, can we reject the null hypothesis that the treatment effects are zero? \n",
    "* What is the counterfactual assumption underlying this regression?"
   ]
  },
  {
   "cell_type": "code",
   "execution_count": 134,
   "metadata": {
    "autoscroll": "json-false",
    "collapsed": false,
    "ein.tags": [
     "worksheet-0"
    ],
    "slideshow": {
     "slide_type": "-"
    }
   },
   "outputs": [
    {
     "name": "stdout",
     "output_type": "stream",
     "text": [
      "                  Results: Ordinary least squares\n",
      "===================================================================\n",
      "Model:              OLS              Adj. R-squared:     0.003     \n",
      "Dependent Variable: sc               AIC:                23855.3045\n",
      "Date:               2017-01-27 09:14 BIC:                23871.7448\n",
      "No. Observations:   27450            Log-Likelihood:     -11926.   \n",
      "Df Model:           1                F-statistic:        69.87     \n",
      "Df Residuals:       27448            Prob (F-statistic): 6.64e-17  \n",
      "R-squared:          0.003            Scale:              0.13961   \n",
      "---------------------------------------------------------------------\n",
      "              Coef.    Std.Err.      t       P>|t|    [0.025   0.975]\n",
      "---------------------------------------------------------------------\n",
      "Intercept     0.8076     0.0037   220.6758   0.0000   0.8005   0.8148\n",
      "progresa      0.0388     0.0046     8.3587   0.0000   0.0297   0.0480\n",
      "-------------------------------------------------------------------\n",
      "Omnibus:             7638.939      Durbin-Watson:         1.734    \n",
      "Prob(Omnibus):       0.000         Jarque-Bera (JB):      15767.534\n",
      "Skew:                -1.767        Prob(JB):              0.000    \n",
      "Kurtosis:            4.140         Condition No.:         3        \n",
      "===================================================================\n",
      "\n"
     ]
    }
   ],
   "source": [
    "# Preparing data for regression\n",
    "a = progresa_df[(progresa_df['poor'] == 'pobre') & (progresa_df['year'] == 98)][['sc','progresa']]\n",
    "\n",
    "# Removing NaNs\n",
    "a = a[~np.isnan(a['sc'])]\n",
    "\n",
    "# Running linear regression\n",
    "mod1 = smf.ols(formula = 'sc ~ progresa', data = a).fit()\n",
    "\n",
    "# Printing results\n",
    "print(mod1.summary2())"
   ]
  },
  {
   "cell_type": "markdown",
   "metadata": {},
   "source": [
    "* This model shows that that progresa increased the enrollment rate by a factor 0.0388. This basically means that that the people in the villages that received the progresa treatment were more likely to be enrolled in schools by a factor of 0.0388. The baseline of the enrollment rate was 0.8076 for reference.\n",
    "\n",
    "* We can see that the t-test in our regression model is equal to the t-test that we obtained from the single difference above. \n",
    "\n",
    "* From the analysis we can reject the null hypothesis that progresa didn't affect the enrollment of children in poor households as the p-value is < 0.05. This tells us that the effects of progresa have a significant effect on the enrollment of poor children.\n",
    "\n",
    "* As the p-value from the t-test is <0.05, we can reject the null hypothesis that progresa did not affect the enrollment of children in poor households. The p-value shows that progressas did have a positive impact on the enrollment of poor children in the treatment villages.\n",
    "\n",
    "* The counterfactual assumption is that in the absence of treatment, the control group will truly represent the treatment group. This means that the average enrollment rate would be equal between the controla and treatment groups in the absent of treatment.\n"
   ]
  },
  {
   "cell_type": "markdown",
   "metadata": {
    "ein.tags": [
     "worksheet-0"
    ],
    "slideshow": {
     "slide_type": "-"
    }
   },
   "source": [
    "### 2.3 Multiple Regression\n",
    "\n",
    "Re-running the above regression estimated but this time include a set of control variables. Include, for instance, age, distance to a secondary school, gender, education of household head, indigenous, etc.\n",
    "\n",
    "* How do the controls affect the point estimate of treatment effect?\n",
    "* How do the controls affect the standard error on the treatment effect? \n",
    "* How do you interpret the differences (or similarities) between your estimates of 2.2 and 2.3?"
   ]
  },
  {
   "cell_type": "code",
   "execution_count": 135,
   "metadata": {
    "autoscroll": "json-false",
    "collapsed": false,
    "ein.tags": [
     "worksheet-0"
    ],
    "slideshow": {
     "slide_type": "-"
    }
   },
   "outputs": [
    {
     "name": "stdout",
     "output_type": "stream",
     "text": [
      "                  Results: Ordinary least squares\n",
      "===================================================================\n",
      "Model:              OLS              Adj. R-squared:     0.267     \n",
      "Dependent Variable: sc               AIC:                15294.7239\n",
      "Date:               2017-01-27 09:14 BIC:                15360.4314\n",
      "No. Observations:   27267            Log-Likelihood:     -7639.4   \n",
      "Df Model:           7                F-statistic:        1419.     \n",
      "Df Residuals:       27259            Prob (F-statistic): 0.00      \n",
      "R-squared:          0.267            Scale:              0.10257   \n",
      "--------------------------------------------------------------------\n",
      "                Coef.   Std.Err.     t      P>|t|    [0.025   0.975]\n",
      "--------------------------------------------------------------------\n",
      "Intercept       1.5025    0.0143  105.3423  0.0000   1.4746   1.5305\n",
      "progresa        0.0352    0.0040    8.7990  0.0000   0.0274   0.0430\n",
      "age            -0.0655    0.0007  -95.1046  0.0000  -0.0669  -0.0642\n",
      "hohedu          0.0085    0.0008   10.9511  0.0000   0.0070   0.0101\n",
      "dist_sec       -0.0117    0.0009  -13.3608  0.0000  -0.0134  -0.0100\n",
      "sex             0.0310    0.0039    7.9772  0.0000   0.0234   0.0386\n",
      "indig           0.0468    0.0042   11.2830  0.0000   0.0387   0.0550\n",
      "welfare_index   0.0000    0.0000    1.8721  0.0612  -0.0000   0.0001\n",
      "-------------------------------------------------------------------\n",
      "Omnibus:              2993.090      Durbin-Watson:         1.718   \n",
      "Prob(Omnibus):        0.000         Jarque-Bera (JB):      4083.947\n",
      "Skew:                 -0.940        Prob(JB):              0.000   \n",
      "Kurtosis:             3.248         Condition No.:         4901    \n",
      "===================================================================\n",
      "* The condition number is large (5e+03). This might indicate\n",
      "strong multicollinearity or other numerical problems.\n"
     ]
    }
   ],
   "source": [
    "#Reshaping the data\n",
    "a2 = progresa_data[(progresa_data['poor'] == 'pobre') & (progresa_data['year'] == 98)][['sc','progresa','age','dist_sec','hohedu','sex','welfare_index','indig']]\n",
    "\n",
    "#Dropping NAs\n",
    "a2 = a2.dropna()\n",
    "\n",
    "#Running inear regression\n",
    "mod2 = smf.ols('sc ~ progresa + age + hohedu + dist_sec + sex + indig + welfare_index', data = a2).fit()\n",
    "print(mod2.summary2())"
   ]
  },
  {
   "cell_type": "markdown",
   "metadata": {},
   "source": [
    "* The controls have reduced the effect of the treatment. From a factor of increasing school rates by 0.0388 it has now reduced to 0.0352. This shows that there might have been some other factors as well which were contributing to the increase in enrollment rates.\n",
    "\n",
    "* The standard error has reduced from 0.0046 to 0.0040 which shows that our model has imporved slightly. This shows that the estiated effect of the treatment on the enrollment is more accurate using this model. This is due to the addition of newer variabes.\n",
    "\n",
    "* There are 2 things that stand out when analyzing the model. First, we see an increase in the intercept of the model which can be due to the increase in variables. The intercept can be seen as the enrollment rate given that every other varaible is 0 or does not exist. Secondly, we see a dramatic increase in the R-squared values between the models. This shows that this model is much better at explaining the variance than the previous model. Also, it provides a better fit."
   ]
  },
  {
   "cell_type": "markdown",
   "metadata": {
    "ein.tags": [
     "worksheet-0"
    ],
    "slideshow": {
     "slide_type": "-"
    }
   },
   "source": [
    "### 2.4 Difference-in-Difference, version 1 (tabular)\n",
    "\n",
    "Thus far, we have computed the effects of Progresa by estimating the difference in 1998 enrollment rates across villages. An alternative approach would be to compute the treatment effect using a difference-in-differences framework.\n",
    "\n",
    "Estimating the average treatment effects of the program for poor households using data from 1997 and 1998. Specifically, calculating the difference (between 1997 and 1998) in enrollment rates among poor households in treated villages; then computing the difference (between 1997 and 1998) in enrollment rates among poor households in treated villages.\n",
    "\n",
    "* What is your estimate of the impact, and how does it compare to your earlier (simple difference) results?\n",
    "* What is the counterfactual assumption underlying this estimate? \n"
   ]
  },
  {
   "cell_type": "code",
   "execution_count": 136,
   "metadata": {
    "autoscroll": "json-false",
    "collapsed": false,
    "ein.tags": [
     "worksheet-0"
    ],
    "slideshow": {
     "slide_type": "-"
    }
   },
   "outputs": [
    {
     "name": "stdout",
     "output_type": "stream",
     "text": [
      "The double difference of average enrolment is :  0.0313312803193\n",
      "The double difference table can be shown below where each value represents the average  enrollment rates\n"
     ]
    },
    {
     "data": {
      "text/html": [
       "<div>\n",
       "<table border=\"1\" class=\"dataframe\">\n",
       "  <thead>\n",
       "    <tr style=\"text-align: right;\">\n",
       "      <th></th>\n",
       "      <th>1997</th>\n",
       "      <th>1998</th>\n",
       "      <th>Difference</th>\n",
       "    </tr>\n",
       "  </thead>\n",
       "  <tbody>\n",
       "    <tr>\n",
       "      <th>treat</th>\n",
       "      <td>0.8227</td>\n",
       "      <td>0.8465</td>\n",
       "      <td>0.0238</td>\n",
       "    </tr>\n",
       "    <tr>\n",
       "      <th>control</th>\n",
       "      <td>0.8152</td>\n",
       "      <td>0.8076</td>\n",
       "      <td>-0.0075</td>\n",
       "    </tr>\n",
       "  </tbody>\n",
       "</table>\n",
       "</div>"
      ],
      "text/plain": [
       "           1997    1998 Difference\n",
       "treat    0.8227  0.8465     0.0238\n",
       "control  0.8152  0.8076    -0.0075"
      ]
     },
     "execution_count": 136,
     "metadata": {},
     "output_type": "execute_result"
    }
   ],
   "source": [
    "#1997 control data\n",
    "control_97 = progresa_df[(progresa_df['poor'] == 'pobre') & (progresa_df['year'] == 97) & \n",
    "                            (progresa_df['progresa'] == 0)]['sc'].mean()\n",
    "\n",
    "#1998 control data\n",
    "control_98 = progresa_df[(progresa_df['poor'] == 'pobre') & (progresa_df['year'] == 98) & \n",
    "                            (progresa_df['progresa'] == 0)]['sc'].mean()\n",
    "\n",
    "#1997 treatment data\n",
    "treat_97 = progresa_data[(progresa_df['poor'] == 'pobre') & (progresa_df['year'] == 97) & \n",
    "                            (progresa_df['progresa'] == 1)]['sc'].mean()\n",
    "\n",
    "#1998 control data\n",
    "treat_98 = progresa_data[(progresa_df['poor'] == 'pobre') & (progresa_df['year'] == 98) & \n",
    "                            (progresa_df['progresa'] == 1)]['sc'].mean()\n",
    "\n",
    "#Differences in treatment and control\n",
    "treat_diff = treat_98 - treat_97\n",
    "control_diff = control_98 - control_97\n",
    "\n",
    "print(\"The double difference of average enrolment is : \", treat_diff - control_diff)\n",
    "\n",
    "#Double difference calculation and table\n",
    "doublediff = pd.DataFrame(columns=['1997', '1998', 'Difference'], index=['treat', 'control'])\n",
    "doublediff['1997']['treat'] = round(treat_97,4)\n",
    "doublediff['1997']['control'] = round(control_97,4)\n",
    "doublediff['1998']['treat'] = round(treat_98,4)\n",
    "doublediff['1998']['control'] = round(control_98,4)\n",
    "doublediff['Difference']['treat'] = round(treat_diff,4)\n",
    "doublediff['Difference']['control'] = round(control_diff,4)\n",
    "\n",
    "#Printing the avlues\n",
    "print('The double difference table can be shown below where each value represents the average',\n",
    "      ' enrollment rates')\n",
    "doublediff"
   ]
  },
  {
   "cell_type": "markdown",
   "metadata": {},
   "source": [
    "* We see that the the impact of the treament on the enrollment has now been reduced from its value in the simple linear regression model. It has reduced from 0.038 to 0.031. This dip can be attributed to the fact that the model has taken into account the impact of time based effect. There is a small growth in enrollment rates with time and this effect is incorrectly attributed to the treatment in the simple linear model.\n",
    "\n",
    "* The counterfactual: Without treatment assuming that over time the change in student enrollment rates for treatment and control will have the identical trend as that of the control group then the treatment group without treatment will be a counterfactual to the treatment."
   ]
  },
  {
   "cell_type": "markdown",
   "metadata": {
    "ein.tags": [
     "worksheet-0"
    ],
    "slideshow": {
     "slide_type": "-"
    }
   },
   "source": [
    "### 2.5 Difference-in-Difference, version 1 (regression)\n",
    "\n",
    "Using a regression specification to estimate the average treatment effect of the program (on the poor) in a difference-in-differences framework. \n",
    "\n",
    "* What is your estimate of the impact of Progresa? Be very specific in interpreting your coefficients and standard errors, and make sure to specify exactly what units you are measuring and estimating.\n",
    "* How do these estimates of the treatment effect compare to the estimates based on the simple difference?\n",
    "* How do these estimates compare to the difference-in-difference estimates from 2.4 above? What accounts for these differences?\n",
    "* What is the counterfactual assumption underlying this regression? "
   ]
  },
  {
   "cell_type": "code",
   "execution_count": 137,
   "metadata": {
    "autoscroll": "json-false",
    "collapsed": false,
    "ein.tags": [
     "worksheet-0"
    ],
    "slideshow": {
     "slide_type": "-"
    }
   },
   "outputs": [
    {
     "name": "stdout",
     "output_type": "stream",
     "text": [
      "                  Results: Ordinary least squares\n",
      "===================================================================\n",
      "Model:              OLS              Adj. R-squared:     0.278     \n",
      "Dependent Variable: sc               AIC:                33332.1890\n",
      "Date:               2017-01-27 09:14 BIC:                33421.8733\n",
      "No. Observations:   58013            Log-Likelihood:     -16656.   \n",
      "Df Model:           9                F-statistic:        2488.     \n",
      "Df Residuals:       58003            Prob (F-statistic): 0.00      \n",
      "R-squared:          0.279            Scale:              0.10399   \n",
      "-------------------------------------------------------------------\n",
      "                   Coef.  Std.Err.     t     P>|t|   [0.025  0.975]\n",
      "-------------------------------------------------------------------\n",
      "Intercept         -1.2257   0.4254   -2.8815 0.0040 -2.0594 -0.3920\n",
      "progresa          -2.9893   0.5390   -5.5464 0.0000 -4.0456 -1.9329\n",
      "year               0.0278   0.0044    6.3696 0.0000  0.0192  0.0364\n",
      "year:progresa      0.0309   0.0055    5.5816 0.0000  0.0200  0.0417\n",
      "age               -0.0655   0.0005 -143.5516 0.0000 -0.0664 -0.0647\n",
      "hohedu             0.0075   0.0005   13.8413 0.0000  0.0064  0.0085\n",
      "dist_sec          -0.0108   0.0006  -17.3779 0.0000 -0.0120 -0.0095\n",
      "sex                0.0338   0.0027   12.6248 0.0000  0.0286  0.0391\n",
      "indig              0.0499   0.0029   17.3627 0.0000  0.0442  0.0555\n",
      "welfare_index      0.0000   0.0000    2.9855 0.0028  0.0000  0.0001\n",
      "-------------------------------------------------------------------\n",
      "Omnibus:              5532.977      Durbin-Watson:         1.483   \n",
      "Prob(Omnibus):        0.000         Jarque-Bera (JB):      7289.118\n",
      "Skew:                 -0.866        Prob(JB):              0.000   \n",
      "Kurtosis:             3.116         Condition No.:         328913  \n",
      "===================================================================\n",
      "* The condition number is large (3e+05). This might indicate\n",
      "strong multicollinearity or other numerical problems.\n"
     ]
    }
   ],
   "source": [
    "#Performing linear regression\n",
    "mod3 = smf.ols(\n",
    "    formula = \"sc ~ progresa + year + year*progresa + age + hohedu + dist_sec + sex + indig + welfare_index\", \n",
    "    data = poor).fit()\n",
    "\n",
    "print(mod3.summary2())"
   ]
  },
  {
   "cell_type": "markdown",
   "metadata": {},
   "source": [
    "* Progresa effects on the basis of the difference in difference model are shown below. We are introducing an interaction term as shown below:\n",
    "\n",
    "    Ignoring the controls, the model can be defined as: \n",
    "\n",
    "    y = Beta0 + Beta1*year + Beta2*progresa + Beta3*(year * progresa) + control\n",
    "\n",
    "    Hence,\n",
    "\n",
    "    Beta0 = pre control (1997)\n",
    "    Beta0 + Beta1 = post control (1998)\n",
    "    Beta0 + Beta2 = pre treat (1997)\n",
    "    Beta0 + Beta1 + Beta2 + Beta3 = post treat (1998)\n",
    "\n",
    "    Difference of difference:\n",
    "\n",
    "    DD = (Beta0 + Beta1 + Beta2 + Beta3 - Beta0 - Beta2) - (Beta0 + Beta1 - Beta0)\n",
    "    DD = (Beta1 + Beta3) - ( Beta1)\n",
    "    DD = Beta3\n",
    "\n",
    "    \n",
    "    By examining the model we observe that the difference of difference or the impact of progresa on the enrollment rate has a positive fatcor of 0.0309 which is the coefficient of the interaction term (year * progresa) with a standard error of 0.0055.\n",
    "\n",
    "* We see that the difference in difference estimate of the increase in enrollment rate due to progresa is 0.0309 which has reduced from the linear model estimate of 0.0388. This is similar to the findings we obtained from the Double difference caluclation that we had done above. This further reiterates our argument that as time is now being taken into consideration, we are seeing a reduction in the effect of the increase in enrollment rate due to progresa. \n",
    "\n",
    "* The reduction in estimated from (2.4) can be attributed to the fact that there are now 5 control variables. These control variables are now reducing the effects that might have occured if the variables had been added individually.\n",
    "\n",
    "* The counterfactual: Without treatment assuming that the change in enrollment rates for treatment and control over time will follow an identical trend as that of the control group then the treatment group without the treatment will act as a counterfactual to the treatment."
   ]
  },
  {
   "cell_type": "markdown",
   "metadata": {
    "ein.tags": [
     "worksheet-0"
    ],
    "slideshow": {
     "slide_type": "-"
    }
   },
   "source": [
    "### 2.6 Difference-in-Difference, version 2\n",
    "\n",
    "In the previous section, we estimated a difference-in-differences model that compared changes in enrollment rates over time across treatment and control villages. An alternative approach would be to compare enrollment rates in 1998 between poor and non-poor across treatment and control villages. \n",
    "\n",
    "* How would we estimate this version of the treatment effects in a regression model? \n",
    "* What is the counterfactual assumption underlying this regression?\n",
    "* How do these treatment effects compare to the estimates above?"
   ]
  },
  {
   "cell_type": "code",
   "execution_count": 138,
   "metadata": {
    "autoscroll": "json-false",
    "collapsed": false,
    "ein.tags": [
     "worksheet-0"
    ],
    "slideshow": {
     "slide_type": "-"
    }
   },
   "outputs": [
    {
     "name": "stdout",
     "output_type": "stream",
     "text": [
      "                     Results: Ordinary least squares\n",
      "========================================================================\n",
      "Model:                 OLS               Adj. R-squared:      0.268     \n",
      "Dependent Variable:    sc                AIC:                 18602.6094\n",
      "Date:                  2017-01-27 09:14  BIC:                 18686.3073\n",
      "No. Observations:      31882             Log-Likelihood:      -9291.3   \n",
      "Df Model:              9                 F-statistic:         1295.     \n",
      "Df Residuals:          31872             Prob (F-statistic):  0.00      \n",
      "R-squared:             0.268             Scale:               0.10490   \n",
      "------------------------------------------------------------------------\n",
      "                        Coef.  Std.Err.     t     P>|t|   [0.025  0.975]\n",
      "------------------------------------------------------------------------\n",
      "Intercept               1.4994   0.0176   84.9790 0.0000  1.4648  1.5340\n",
      "poor[T.pobre]          -0.0050   0.0090   -0.5611 0.5747 -0.0226  0.0125\n",
      "progresa                0.0257   0.0098    2.6364 0.0084  0.0066  0.0448\n",
      "poor[T.pobre]:progresa  0.0095   0.0106    0.9035 0.3663 -0.0112  0.0302\n",
      "age                    -0.0659   0.0006 -102.5872 0.0000 -0.0672 -0.0647\n",
      "hohedu                  0.0091   0.0007   13.0111 0.0000  0.0077  0.0104\n",
      "dist_sec               -0.0119   0.0008  -14.2307 0.0000 -0.0135 -0.0102\n",
      "sex                     0.0310   0.0036    8.5368 0.0000  0.0239  0.0381\n",
      "indig                   0.0476   0.0040   11.8262 0.0000  0.0397  0.0555\n",
      "welfare_index           0.0001   0.0000    3.1470 0.0017  0.0000  0.0001\n",
      "------------------------------------------------------------------------\n",
      "Omnibus:               3242.094        Durbin-Watson:           1.722   \n",
      "Prob(Omnibus):         0.000           Jarque-Bera (JB):        4344.671\n",
      "Skew:                  -0.902          Prob(JB):                0.000   \n",
      "Kurtosis:              3.128           Condition No.:           7826    \n",
      "========================================================================\n",
      "* The condition number is large (8e+03). This might indicate\n",
      "strong multicollinearity or other numerical problems.\n"
     ]
    }
   ],
   "source": [
    "#Performing linear regression\n",
    "mod4 = smf.ols(\n",
    "    formula = \"sc~progresa + poor + poor*progresa + age + hohedu + dist_sec + sex + indig + welfare_index\", \n",
    "    data = progresa_df[(progresa_df['year'] == 98)]).fit()\n",
    "print(mod4.summary2())"
   ]
  },
  {
   "cell_type": "markdown",
   "metadata": {},
   "source": [
    "* The difference in difference model shows the effects and impact of progresa\n",
    "\n",
    "    Ignoring the controls, the model can be defined as:  \n",
    "\n",
    "    y = Beta0 + Beta1*poor + Beta2*progresa + Beta3*(poor * progresa) + control\n",
    "\n",
    "    Hence,\n",
    "\n",
    "    Beta0 = pre control\n",
    "    Beta0 + Beta1 = post control\n",
    "    Beta0 + Beta2 = pre treat\n",
    "    Beta0 + Beta1 + Beta2 + Beta3 = post treat\n",
    "\n",
    "    Difference of difference: \n",
    "\n",
    "    DD = (Beta0 + Beta1 + Beta2 + Beta3 - Beta0 - Beta2) - (Beta0 + Beta1 - Beta0)\n",
    "    DD = (Beta1 + Beta3) - ( Beta1)\n",
    "    DD = Beta3\n",
    "    \n",
    "    By examining the model we observe that the difference of difference or the impact of progresa on the enrollment rate has a positive fatcor of 0.0095 which is the coefficient of the interaction term (poor * progresa) with a standard error of 0.0106.\n",
    "    \n",
    "    This shows that in the yearv 1998 poor people with progresa had an increase in the enrollment rate by 0.0095.\n",
    "    \n",
    "\n",
    "* The counterfactual: Without treatment assuming that the poor people will follow an identical trend as that of the non poor people, then the poor people without the treatment will act as a true counterfactual for the treatment group.\n",
    "\n",
    "* In this model, we see that the increase in enrollment rates of the poor in treatment villages is 0.0095 compared to the double difference model earlier where the estimate was 0.0309. The intercept is also different as the counterfactual assumption is changing.\n",
    "\n",
    "* The assumption made in the counterfactual is that it is the poor people in the villages without treatment. As a result, we are comparing it with the poor people in villages which received the treatent. The earlier case was showing the counterfactual as the poor people if they were not treated. This change in the counterfactal impacts the change that we see in our observations above.\n",
    "\n"
   ]
  },
  {
   "cell_type": "markdown",
   "metadata": {
    "ein.tags": [
     "worksheet-0"
    ],
    "slideshow": {
     "slide_type": "-"
    }
   },
   "source": [
    "### 2.7 Spillover effects\n",
    "\n",
    "We have focused on the impact of PROGRESA on poor households. Repeat your analysis in 2.5, using a double-difference regression to estimate the impact of PROGRESA on non-poor households. \n",
    "\n",
    "* A: Describe one or two reasons why PROGRESA might have impacted non-poor households.\n",
    "* B: Do you observe any impacts of PROGRESA on the non-poor?\n",
    "* C: What is the identifying assumption that you are using to estimate the impact of PROGRESA on non-poor households."
   ]
  },
  {
   "cell_type": "code",
   "execution_count": 139,
   "metadata": {
    "autoscroll": "json-false",
    "collapsed": false,
    "ein.tags": [
     "worksheet-0"
    ],
    "scrolled": true,
    "slideshow": {
     "slide_type": "-"
    }
   },
   "outputs": [
    {
     "name": "stdout",
     "output_type": "stream",
     "text": [
      "                  Results: Ordinary least squares\n",
      "==================================================================\n",
      "Model:              OLS              Adj. R-squared:     0.281    \n",
      "Dependent Variable: sc               AIC:                7396.7188\n",
      "Date:               2017-01-27 09:14 BIC:                7454.6644\n",
      "No. Observations:   10334            Log-Likelihood:     -3690.4  \n",
      "Df Model:           7                F-statistic:        577.3    \n",
      "Df Residuals:       10326            Prob (F-statistic): 0.00     \n",
      "R-squared:          0.281            Scale:              0.11969  \n",
      "------------------------------------------------------------------\n",
      "                   Coef.  Std.Err.    t     P>|t|   [0.025  0.975]\n",
      "------------------------------------------------------------------\n",
      "Intercept          1.4609   0.0293  49.8328 0.0000  1.4034  1.5183\n",
      "progresa           0.0267   0.0070   3.8311 0.0001  0.0130  0.0404\n",
      "age               -0.0677   0.0011 -59.5577 0.0000 -0.0700 -0.0655\n",
      "hohedu             0.0094   0.0011   8.6815 0.0000  0.0073  0.0116\n",
      "dist_sec          -0.0160   0.0018  -8.9889 0.0000 -0.0194 -0.0125\n",
      "sex                0.0292   0.0068   4.2927 0.0000  0.0159  0.0426\n",
      "indig              0.0390   0.0102   3.8317 0.0001  0.0190  0.0589\n",
      "welfare_index      0.0001   0.0000   3.7002 0.0002  0.0000  0.0002\n",
      "------------------------------------------------------------------\n",
      "Omnibus:             863.456       Durbin-Watson:          1.494  \n",
      "Prob(Omnibus):       0.000         Jarque-Bera (JB):       839.058\n",
      "Skew:                -0.640        Prob(JB):               0.000  \n",
      "Kurtosis:            2.443         Condition No.:          7615   \n",
      "==================================================================\n",
      "* The condition number is large (8e+03). This might indicate\n",
      "strong multicollinearity or other numerical problems.\n"
     ]
    }
   ],
   "source": [
    "#Performing linear regression\n",
    "mod5 = smf.ols(\n",
    "    formula = \"sc ~ progresa + age + hohedu + dist_sec + sex + indig + welfare_index\", \n",
    "    data = progresa_df[progresa_df['poor'] != 'pobre']).fit()\n",
    "print(mod5.summary2())"
   ]
  },
  {
   "cell_type": "markdown",
   "metadata": {},
   "source": [
    "*A: Progresa might have had a spillover effect as it it might have created an environment of peer effect where children seeing other children enrolling for school might have been inclined to enroll themselves. This is a psychological effect when people tend to follow a trend which is taking place in the community.\n",
    "\n",
    "*B: We have completed a single difference regression analysis. In that analysis, we observed that there is a positive impact of progresa on the children in treatment villages. This shows that there is some spillover effect that has resulted in higher enrollment for non-poor people in treatment villages than non-treatment villages.\n",
    "\n",
    "*C: The assumption is that there would have been no increase in the enrollment of non-poor people if there was no introduction of the progresa treatment."
   ]
  },
  {
   "cell_type": "markdown",
   "metadata": {
    "ein.tags": [
     "worksheet-0"
    ],
    "slideshow": {
     "slide_type": "-"
    }
   },
   "source": [
    "### 2.8 Summary\n",
    "\n",
    "Based on all the analysis you have undertaken to date, does Progresa have a causal impact on the enrollment rates of poor households in Mexico?"
   ]
  },
  {
   "cell_type": "markdown",
   "metadata": {
    "autoscroll": "json-false",
    "collapsed": false,
    "ein.tags": [
     "worksheet-0"
    ],
    "slideshow": {
     "slide_type": "-"
    }
   },
   "source": [
    "Following on from the analysis that we have conducted in the problem set, we can say that Progresa had a causal impact on the enrollment rates in the villages it was implemented. This can be concluded as there was a significant difference between treatment and control villages when taking into account baseline changes. There might be certain variables that we have not accounted for but still the assumption that the increase in enrollment rates is due to progresa is a safe one."
   ]
  }
 ],
 "metadata": {
  "anaconda-cloud": {},
  "kernelspec": {
   "display_name": "Python [default]",
   "language": "python",
   "name": "python2"
  },
  "language_info": {
   "codemirror_mode": {
    "name": "ipython",
    "version": 2
   },
   "file_extension": ".py",
   "mimetype": "text/x-python",
   "name": "python",
   "nbconvert_exporter": "python",
   "pygments_lexer": "ipython2",
   "version": "2.7.12"
  },
  "name": "INFX574-PS2.ipynb"
 },
 "nbformat": 4,
 "nbformat_minor": 2
}
